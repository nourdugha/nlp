{
 "cells": [
  {
   "cell_type": "code",
   "execution_count": 1,
   "metadata": {},
   "outputs": [],
   "source": [
    "import numpy as np\n",
    "import pandas as pd\n",
    "import nltk\n",
    "import seaborn as sns\n",
    "import matplotlib.pyplot as plt\n",
    "from nltk.corpus import stopwords\n",
    "import re"
   ]
  },
  {
   "cell_type": "code",
   "execution_count": 2,
   "metadata": {},
   "outputs": [],
   "source": [
    "dataset=pd.read_csv('spam.csv',encoding = \"latin-1\")"
   ]
  },
  {
   "cell_type": "code",
   "execution_count": 3,
   "metadata": {},
   "outputs": [
    {
     "data": {
      "text/html": [
       "<div>\n",
       "<style scoped>\n",
       "    .dataframe tbody tr th:only-of-type {\n",
       "        vertical-align: middle;\n",
       "    }\n",
       "\n",
       "    .dataframe tbody tr th {\n",
       "        vertical-align: top;\n",
       "    }\n",
       "\n",
       "    .dataframe thead th {\n",
       "        text-align: right;\n",
       "    }\n",
       "</style>\n",
       "<table border=\"1\" class=\"dataframe\">\n",
       "  <thead>\n",
       "    <tr style=\"text-align: right;\">\n",
       "      <th></th>\n",
       "      <th>v1</th>\n",
       "      <th>v2</th>\n",
       "      <th>Unnamed: 2</th>\n",
       "      <th>Unnamed: 3</th>\n",
       "      <th>Unnamed: 4</th>\n",
       "    </tr>\n",
       "  </thead>\n",
       "  <tbody>\n",
       "    <tr>\n",
       "      <th>0</th>\n",
       "      <td>ham</td>\n",
       "      <td>Go until jurong point, crazy.. Available only ...</td>\n",
       "      <td>NaN</td>\n",
       "      <td>NaN</td>\n",
       "      <td>NaN</td>\n",
       "    </tr>\n",
       "    <tr>\n",
       "      <th>1</th>\n",
       "      <td>ham</td>\n",
       "      <td>Ok lar... Joking wif u oni...</td>\n",
       "      <td>NaN</td>\n",
       "      <td>NaN</td>\n",
       "      <td>NaN</td>\n",
       "    </tr>\n",
       "    <tr>\n",
       "      <th>2</th>\n",
       "      <td>spam</td>\n",
       "      <td>Free entry in 2 a wkly comp to win FA Cup fina...</td>\n",
       "      <td>NaN</td>\n",
       "      <td>NaN</td>\n",
       "      <td>NaN</td>\n",
       "    </tr>\n",
       "    <tr>\n",
       "      <th>3</th>\n",
       "      <td>ham</td>\n",
       "      <td>U dun say so early hor... U c already then say...</td>\n",
       "      <td>NaN</td>\n",
       "      <td>NaN</td>\n",
       "      <td>NaN</td>\n",
       "    </tr>\n",
       "    <tr>\n",
       "      <th>4</th>\n",
       "      <td>ham</td>\n",
       "      <td>Nah I don't think he goes to usf, he lives aro...</td>\n",
       "      <td>NaN</td>\n",
       "      <td>NaN</td>\n",
       "      <td>NaN</td>\n",
       "    </tr>\n",
       "  </tbody>\n",
       "</table>\n",
       "</div>"
      ],
      "text/plain": [
       "     v1                                                 v2 Unnamed: 2  \\\n",
       "0   ham  Go until jurong point, crazy.. Available only ...        NaN   \n",
       "1   ham                      Ok lar... Joking wif u oni...        NaN   \n",
       "2  spam  Free entry in 2 a wkly comp to win FA Cup fina...        NaN   \n",
       "3   ham  U dun say so early hor... U c already then say...        NaN   \n",
       "4   ham  Nah I don't think he goes to usf, he lives aro...        NaN   \n",
       "\n",
       "  Unnamed: 3 Unnamed: 4  \n",
       "0        NaN        NaN  \n",
       "1        NaN        NaN  \n",
       "2        NaN        NaN  \n",
       "3        NaN        NaN  \n",
       "4        NaN        NaN  "
      ]
     },
     "execution_count": 3,
     "metadata": {},
     "output_type": "execute_result"
    }
   ],
   "source": [
    "dataset.head()"
   ]
  },
  {
   "cell_type": "code",
   "execution_count": 4,
   "metadata": {},
   "outputs": [],
   "source": [
    "dataset=dataset.drop(columns=[\"Unnamed: 2\",\"Unnamed: 3\",\"Unnamed: 4\"])\n",
    "dataset=dataset.rename(columns={\"v1\" : \"Target\" , \"v2\" : \"Message\"})\n",
    "dataset[\"Length\"]=dataset[\"Message\"].str.len()"
   ]
  },
  {
   "cell_type": "code",
   "execution_count": 5,
   "metadata": {},
   "outputs": [
    {
     "data": {
      "text/html": [
       "<div>\n",
       "<style scoped>\n",
       "    .dataframe tbody tr th:only-of-type {\n",
       "        vertical-align: middle;\n",
       "    }\n",
       "\n",
       "    .dataframe tbody tr th {\n",
       "        vertical-align: top;\n",
       "    }\n",
       "\n",
       "    .dataframe thead th {\n",
       "        text-align: right;\n",
       "    }\n",
       "</style>\n",
       "<table border=\"1\" class=\"dataframe\">\n",
       "  <thead>\n",
       "    <tr style=\"text-align: right;\">\n",
       "      <th></th>\n",
       "      <th>Target</th>\n",
       "      <th>Message</th>\n",
       "      <th>Length</th>\n",
       "    </tr>\n",
       "  </thead>\n",
       "  <tbody>\n",
       "    <tr>\n",
       "      <th>0</th>\n",
       "      <td>ham</td>\n",
       "      <td>Go until jurong point, crazy.. Available only ...</td>\n",
       "      <td>111</td>\n",
       "    </tr>\n",
       "    <tr>\n",
       "      <th>1</th>\n",
       "      <td>ham</td>\n",
       "      <td>Ok lar... Joking wif u oni...</td>\n",
       "      <td>29</td>\n",
       "    </tr>\n",
       "    <tr>\n",
       "      <th>2</th>\n",
       "      <td>spam</td>\n",
       "      <td>Free entry in 2 a wkly comp to win FA Cup fina...</td>\n",
       "      <td>155</td>\n",
       "    </tr>\n",
       "    <tr>\n",
       "      <th>3</th>\n",
       "      <td>ham</td>\n",
       "      <td>U dun say so early hor... U c already then say...</td>\n",
       "      <td>49</td>\n",
       "    </tr>\n",
       "    <tr>\n",
       "      <th>4</th>\n",
       "      <td>ham</td>\n",
       "      <td>Nah I don't think he goes to usf, he lives aro...</td>\n",
       "      <td>61</td>\n",
       "    </tr>\n",
       "    <tr>\n",
       "      <th>5</th>\n",
       "      <td>spam</td>\n",
       "      <td>FreeMsg Hey there darling it's been 3 week's n...</td>\n",
       "      <td>148</td>\n",
       "    </tr>\n",
       "    <tr>\n",
       "      <th>6</th>\n",
       "      <td>ham</td>\n",
       "      <td>Even my brother is not like to speak with me. ...</td>\n",
       "      <td>77</td>\n",
       "    </tr>\n",
       "    <tr>\n",
       "      <th>7</th>\n",
       "      <td>ham</td>\n",
       "      <td>As per your request 'Melle Melle (Oru Minnamin...</td>\n",
       "      <td>160</td>\n",
       "    </tr>\n",
       "    <tr>\n",
       "      <th>8</th>\n",
       "      <td>spam</td>\n",
       "      <td>WINNER!! As a valued network customer you have...</td>\n",
       "      <td>158</td>\n",
       "    </tr>\n",
       "    <tr>\n",
       "      <th>9</th>\n",
       "      <td>spam</td>\n",
       "      <td>Had your mobile 11 months or more? U R entitle...</td>\n",
       "      <td>154</td>\n",
       "    </tr>\n",
       "  </tbody>\n",
       "</table>\n",
       "</div>"
      ],
      "text/plain": [
       "  Target                                            Message  Length\n",
       "0    ham  Go until jurong point, crazy.. Available only ...     111\n",
       "1    ham                      Ok lar... Joking wif u oni...      29\n",
       "2   spam  Free entry in 2 a wkly comp to win FA Cup fina...     155\n",
       "3    ham  U dun say so early hor... U c already then say...      49\n",
       "4    ham  Nah I don't think he goes to usf, he lives aro...      61\n",
       "5   spam  FreeMsg Hey there darling it's been 3 week's n...     148\n",
       "6    ham  Even my brother is not like to speak with me. ...      77\n",
       "7    ham  As per your request 'Melle Melle (Oru Minnamin...     160\n",
       "8   spam  WINNER!! As a valued network customer you have...     158\n",
       "9   spam  Had your mobile 11 months or more? U R entitle...     154"
      ]
     },
     "execution_count": 5,
     "metadata": {},
     "output_type": "execute_result"
    }
   ],
   "source": [
    "dataset.head(10)"
   ]
  },
  {
   "cell_type": "code",
   "execution_count": 6,
   "metadata": {},
   "outputs": [
    {
     "name": "stdout",
     "output_type": "stream",
     "text": [
      "<class 'pandas.core.frame.DataFrame'>\n",
      "RangeIndex: 5572 entries, 0 to 5571\n",
      "Data columns (total 3 columns):\n",
      "Target     5572 non-null object\n",
      "Message    5572 non-null object\n",
      "Length     5572 non-null int64\n",
      "dtypes: int64(1), object(2)\n",
      "memory usage: 130.7+ KB\n",
      "None\n"
     ]
    }
   ],
   "source": [
    "print(dataset.info())"
   ]
  },
  {
   "cell_type": "code",
   "execution_count": 7,
   "metadata": {},
   "outputs": [
    {
     "name": "stdout",
     "output_type": "stream",
     "text": [
      "ham     4825\n",
      "spam     747\n",
      "Name: Target, dtype: int64\n"
     ]
    },
    {
     "data": {
      "image/png": "[encoded data removed]",
      "text/plain": [
       "<Figure size 720x360 with 1 Axes>"
      ]
     },
     "metadata": {
      "needs_background": "light"
     },
     "output_type": "display_data"
    }
   ],
   "source": [
    "# How many spam messages and ham messages in the dataset\n",
    "plt.figure(figsize=(10,5))\n",
    "# seaborn: statistical data visualization\n",
    "sns.countplot(data=dataset,x=\"Target\")\n",
    "print(dataset[\"Target\"].value_counts())"
   ]
  },
  {
   "cell_type": "code",
   "execution_count": 8,
   "metadata": {},
   "outputs": [
    {
     "data": {
      "text/plain": [
       "<matplotlib.axes._subplots.AxesSubplot at 0x21cbd75c2e8>"
      ]
     },
     "execution_count": 8,
     "metadata": {},
     "output_type": "execute_result"
    },
    {
     "data": {
      "image/png": "[encoded data removed]",
      "text/plain": [
       "<Figure size 1080x504 with 1 Axes>"
      ]
     },
     "metadata": {
      "needs_background": "light"
     },
     "output_type": "display_data"
    }
   ],
   "source": [
    "# we understand from this figure that the spam messages tends to have the large length more than ham messages\n",
    "plt.figure(figsize=(15,7))\n",
    "plt.xlim(0,200)\n",
    "sns.distplot(dataset.loc[dataset[\"Target\"]==\"ham\"][\"Length\"],kde_kws={\"label\":\"Ham\"},bins=100)\n",
    "sns.distplot(dataset.loc[dataset[\"Target\"]==\"spam\"][\"Length\"],kde_kws={\"label\":\"Spam\"},bins=100)\n"
   ]
  },
  {
   "cell_type": "code",
   "execution_count": 9,
   "metadata": {},
   "outputs": [
    {
     "data": {
      "text/html": [
       "<div>\n",
       "<style scoped>\n",
       "    .dataframe tbody tr th:only-of-type {\n",
       "        vertical-align: middle;\n",
       "    }\n",
       "\n",
       "    .dataframe tbody tr th {\n",
       "        vertical-align: top;\n",
       "    }\n",
       "\n",
       "    .dataframe thead th {\n",
       "        text-align: right;\n",
       "    }\n",
       "</style>\n",
       "<table border=\"1\" class=\"dataframe\">\n",
       "  <thead>\n",
       "    <tr style=\"text-align: right;\">\n",
       "      <th></th>\n",
       "      <th>Target</th>\n",
       "      <th>Message</th>\n",
       "      <th>Length</th>\n",
       "    </tr>\n",
       "  </thead>\n",
       "  <tbody>\n",
       "    <tr>\n",
       "      <th>0</th>\n",
       "      <td>ham</td>\n",
       "      <td>Go until jurong point, crazy.. Available only ...</td>\n",
       "      <td>111</td>\n",
       "    </tr>\n",
       "    <tr>\n",
       "      <th>1</th>\n",
       "      <td>ham</td>\n",
       "      <td>Ok lar... Joking wif u oni...</td>\n",
       "      <td>29</td>\n",
       "    </tr>\n",
       "    <tr>\n",
       "      <th>2</th>\n",
       "      <td>spam</td>\n",
       "      <td>Free entry in 2 a wkly comp to win FA Cup fina...</td>\n",
       "      <td>155</td>\n",
       "    </tr>\n",
       "    <tr>\n",
       "      <th>3</th>\n",
       "      <td>ham</td>\n",
       "      <td>U dun say so early hor... U c already then say...</td>\n",
       "      <td>49</td>\n",
       "    </tr>\n",
       "    <tr>\n",
       "      <th>4</th>\n",
       "      <td>ham</td>\n",
       "      <td>Nah I don't think he goes to usf, he lives aro...</td>\n",
       "      <td>61</td>\n",
       "    </tr>\n",
       "  </tbody>\n",
       "</table>\n",
       "</div>"
      ],
      "text/plain": [
       "  Target                                            Message  Length\n",
       "0    ham  Go until jurong point, crazy.. Available only ...     111\n",
       "1    ham                      Ok lar... Joking wif u oni...      29\n",
       "2   spam  Free entry in 2 a wkly comp to win FA Cup fina...     155\n",
       "3    ham  U dun say so early hor... U c already then say...      49\n",
       "4    ham  Nah I don't think he goes to usf, he lives aro...      61"
      ]
     },
     "execution_count": 9,
     "metadata": {},
     "output_type": "execute_result"
    }
   ],
   "source": [
    "data1=dataset.copy()\n",
    "data1.head()"
   ]
  },
  {
   "cell_type": "markdown",
   "metadata": {},
   "source": [
    "# Preprocess the dataset"
   ]
  },
  {
   "cell_type": "code",
   "execution_count": 10,
   "metadata": {},
   "outputs": [],
   "source": [
    "# Firstly we need to convert the column Target to binary data as 0 and 1\n",
    "from sklearn.preprocessing import LabelEncoder\n",
    "encoder=LabelEncoder()\n",
    "y=encoder.fit_transform(data1['Target'])\n",
    "data1['Target']=y"
   ]
  },
  {
   "cell_type": "code",
   "execution_count": 11,
   "metadata": {},
   "outputs": [
    {
     "data": {
      "text/html": [
       "<div>\n",
       "<style scoped>\n",
       "    .dataframe tbody tr th:only-of-type {\n",
       "        vertical-align: middle;\n",
       "    }\n",
       "\n",
       "    .dataframe tbody tr th {\n",
       "        vertical-align: top;\n",
       "    }\n",
       "\n",
       "    .dataframe thead th {\n",
       "        text-align: right;\n",
       "    }\n",
       "</style>\n",
       "<table border=\"1\" class=\"dataframe\">\n",
       "  <thead>\n",
       "    <tr style=\"text-align: right;\">\n",
       "      <th></th>\n",
       "      <th>Target</th>\n",
       "      <th>Message</th>\n",
       "      <th>Length</th>\n",
       "    </tr>\n",
       "  </thead>\n",
       "  <tbody>\n",
       "    <tr>\n",
       "      <th>0</th>\n",
       "      <td>0</td>\n",
       "      <td>Go until jurong point, crazy.. Available only ...</td>\n",
       "      <td>111</td>\n",
       "    </tr>\n",
       "    <tr>\n",
       "      <th>1</th>\n",
       "      <td>0</td>\n",
       "      <td>Ok lar... Joking wif u oni...</td>\n",
       "      <td>29</td>\n",
       "    </tr>\n",
       "    <tr>\n",
       "      <th>2</th>\n",
       "      <td>1</td>\n",
       "      <td>Free entry in 2 a wkly comp to win FA Cup fina...</td>\n",
       "      <td>155</td>\n",
       "    </tr>\n",
       "    <tr>\n",
       "      <th>3</th>\n",
       "      <td>0</td>\n",
       "      <td>U dun say so early hor... U c already then say...</td>\n",
       "      <td>49</td>\n",
       "    </tr>\n",
       "    <tr>\n",
       "      <th>4</th>\n",
       "      <td>0</td>\n",
       "      <td>Nah I don't think he goes to usf, he lives aro...</td>\n",
       "      <td>61</td>\n",
       "    </tr>\n",
       "  </tbody>\n",
       "</table>\n",
       "</div>"
      ],
      "text/plain": [
       "   Target                                            Message  Length\n",
       "0       0  Go until jurong point, crazy.. Available only ...     111\n",
       "1       0                      Ok lar... Joking wif u oni...      29\n",
       "2       1  Free entry in 2 a wkly comp to win FA Cup fina...     155\n",
       "3       0  U dun say so early hor... U c already then say...      49\n",
       "4       0  Nah I don't think he goes to usf, he lives aro...      61"
      ]
     },
     "execution_count": 11,
     "metadata": {},
     "output_type": "execute_result"
    }
   ],
   "source": [
    "data1.head()"
   ]
  },
  {
   "cell_type": "code",
   "execution_count": 12,
   "metadata": {},
   "outputs": [],
   "source": [
    "text_messages=data1['Message']\n",
    "#print(text_messages[:10])"
   ]
  },
  {
   "cell_type": "code",
   "execution_count": 13,
   "metadata": {},
   "outputs": [],
   "source": [
    "# Secondly we will clean the data for alot of something\n",
    "Email=r'^.+@.*\\.[A-Za-z0-9]{2,}$'\n",
    "Url=r'^http://\\S*'\n",
    "MoneySymbol=r'\\u20AC|\\$'\n",
    "NormalNumber=r'\\d+(\\.\\d+)?'\n",
    "PhoneNumber=r'^\\(?[\\d]{3}\\)?[\\s-]?[\\d]{3}[\\s-]?[\\d]{4}$'\n",
    "Punctuation=r'[^\\w\\d\\s]'\n",
    "StopWords = set(stopwords.words('english'))\n",
    "def Clean_Data(text):\n",
    "    text=re.sub(Email,\"\",text)\n",
    "    text=re.sub(Url,\"\",text)\n",
    "    text=re.sub(MoneySymbol,\"moneysymb\",text)\n",
    "    text=re.sub(PhoneNumber,\"phonenumber\",text)\n",
    "    text=re.sub(NormalNumber,\"number\",text)\n",
    "    text=re.sub(Punctuation,\"\",text)\n",
    "    text=str.lower(text)\n",
    "    text=[nltk.PorterStemmer().stem(w)  for w in text.split() if w not in StopWords]\n",
    "    return \" \".join(text)\n"
   ]
  },
  {
   "cell_type": "code",
   "execution_count": 14,
   "metadata": {},
   "outputs": [],
   "source": [
    "CleanMessages=[Clean_Data(w) for w in data1.Message]"
   ]
  },
  {
   "cell_type": "code",
   "execution_count": 15,
   "metadata": {},
   "outputs": [],
   "source": [
    "data1['Message']=CleanMessages"
   ]
  },
  {
   "cell_type": "code",
   "execution_count": 16,
   "metadata": {},
   "outputs": [
    {
     "data": {
      "text/html": [
       "<div>\n",
       "<style scoped>\n",
       "    .dataframe tbody tr th:only-of-type {\n",
       "        vertical-align: middle;\n",
       "    }\n",
       "\n",
       "    .dataframe tbody tr th {\n",
       "        vertical-align: top;\n",
       "    }\n",
       "\n",
       "    .dataframe thead th {\n",
       "        text-align: right;\n",
       "    }\n",
       "</style>\n",
       "<table border=\"1\" class=\"dataframe\">\n",
       "  <thead>\n",
       "    <tr style=\"text-align: right;\">\n",
       "      <th></th>\n",
       "      <th>Target</th>\n",
       "      <th>Message</th>\n",
       "      <th>Length</th>\n",
       "    </tr>\n",
       "  </thead>\n",
       "  <tbody>\n",
       "    <tr>\n",
       "      <th>0</th>\n",
       "      <td>0</td>\n",
       "      <td>go jurong point crazi avail bugi n great world...</td>\n",
       "      <td>111</td>\n",
       "    </tr>\n",
       "    <tr>\n",
       "      <th>1</th>\n",
       "      <td>0</td>\n",
       "      <td>ok lar joke wif u oni</td>\n",
       "      <td>29</td>\n",
       "    </tr>\n",
       "    <tr>\n",
       "      <th>2</th>\n",
       "      <td>1</td>\n",
       "      <td>free entri number wkli comp win fa cup final t...</td>\n",
       "      <td>155</td>\n",
       "    </tr>\n",
       "    <tr>\n",
       "      <th>3</th>\n",
       "      <td>0</td>\n",
       "      <td>u dun say earli hor u c alreadi say</td>\n",
       "      <td>49</td>\n",
       "    </tr>\n",
       "    <tr>\n",
       "      <th>4</th>\n",
       "      <td>0</td>\n",
       "      <td>nah dont think goe usf live around though</td>\n",
       "      <td>61</td>\n",
       "    </tr>\n",
       "  </tbody>\n",
       "</table>\n",
       "</div>"
      ],
      "text/plain": [
       "   Target                                            Message  Length\n",
       "0       0  go jurong point crazi avail bugi n great world...     111\n",
       "1       0                              ok lar joke wif u oni      29\n",
       "2       1  free entri number wkli comp win fa cup final t...     155\n",
       "3       0                u dun say earli hor u c alreadi say      49\n",
       "4       0          nah dont think goe usf live around though      61"
      ]
     },
     "execution_count": 16,
     "metadata": {},
     "output_type": "execute_result"
    }
   ],
   "source": [
    "data1.head()"
   ]
  },
  {
   "cell_type": "markdown",
   "metadata": {},
   "source": [
    "# Tokenization"
   ]
  },
  {
   "cell_type": "code",
   "execution_count": 17,
   "metadata": {},
   "outputs": [],
   "source": [
    "from  nltk.tokenize import word_tokenize\n",
    "tokenizer = nltk.tokenize.WhitespaceTokenizer()\n",
    "data1['Tokenized'] = data1['Message'].apply(tokenizer.tokenize)"
   ]
  },
  {
   "cell_type": "code",
   "execution_count": 18,
   "metadata": {},
   "outputs": [
    {
     "data": {
      "text/plain": [
       "0       [(go, jurong), (jurong, point), (point, crazi)...\n",
       "1       [(ok, lar), (lar, joke), (joke, wif), (wif, u)...\n",
       "2       [(free, entri), (entri, number), (number, wkli...\n",
       "3       [(u, dun), (dun, say), (say, earli), (earli, h...\n",
       "4       [(nah, dont), (dont, think), (think, goe), (go...\n",
       "5       [(freemsg, hey), (hey, darl), (darl, number), ...\n",
       "6       [(even, brother), (brother, like), (like, spea...\n",
       "7       [(per, request), (request, mell), (mell, mell)...\n",
       "8       [(winner, valu), (valu, network), (network, cu...\n",
       "9       [(mobil, number), (number, month), (month, u),...\n",
       "10      [(im, gonna), (gonna, home), (home, soon), (so...\n",
       "11      [(six, chanc), (chanc, win), (win, cash), (cas...\n",
       "12      [(urgent, number), (number, week), (week, free...\n",
       "13      [(ive, search), (search, right), (right, word)...\n",
       "14                                       [(date, sunday)]\n",
       "15      [(xxxmobilemovieclub, use), (use, credit), (cr...\n",
       "16                              [(oh, kim), (kim, watch)]\n",
       "17      [(eh, u), (u, rememb), (rememb, number), (numb...\n",
       "18      [(fine, thatåõ), (thatåõ, way), (way, u), (u, ...\n",
       "19      [(england, v), (v, macedonia), (macedonia, don...\n",
       "20                      [(serious, spell), (spell, name)]\n",
       "21      [(iûm, go), (go, tri), (tri, number), (number,...\n",
       "22      [(ì_, pay), (pay, first), (first, lar), (lar, ...\n",
       "23      [(aft, finish), (finish, lunch), (lunch, go), ...\n",
       "24      [(ffffffffff, alright), (alright, way), (way, ...\n",
       "25      [(forc, eat), (eat, slice), (slice, im), (im, ...\n",
       "26                       [(lol, alway), (alway, convinc)]\n",
       "27      [(catch, bu), (bu, fri), (fri, egg), (egg, mak...\n",
       "28      [(im, back), (back, amp), (amp, pack), (pack, ...\n",
       "29      [(ahhh, work), (work, vagu), (vagu, rememb), (...\n",
       "                              ...                        \n",
       "5542    [(armand, say), (say, get), (get, ass), (ass, ...\n",
       "5543    [(u, still), (still, havent), (havent, got), (...\n",
       "5544    [(im, take), (take, derek), (derek, amp), (amp...\n",
       "5545     [(hi, durban), (durban, still), (still, number)]\n",
       "5546    [(ic, lotta), (lotta, childporn), (childporn, ...\n",
       "5547    [(contract, mobil), (mobil, number), (number, ...\n",
       "5548                       [(tri, weekend), (weekend, v)]\n",
       "5549    [(know, wot), (wot, peopl), (peopl, wear), (we...\n",
       "5550          [(cool, time), (time, think), (think, get)]\n",
       "5551    [(wen, get), (get, spiritu), (spiritu, deep), ...\n",
       "5552    [(safe, trip), (trip, nigeria), (nigeria, wish...\n",
       "5553                   [(hahahaus, brain), (brain, dear)]\n",
       "5554    [(well, keep), (keep, mind), (mind, ive), (ive...\n",
       "5555    [(yeh, indian), (indian, nice), (nice, tho), (...\n",
       "5556    [(ye, that), (that, u), (u, text), (text, pshe...\n",
       "5557    [(meant, calcul), (calcul, ltgt), (ltgt, unit)...\n",
       "5558           [(sorri, ill), (ill, call), (call, later)]\n",
       "5559    [(arent, next), (next, ltgt), (ltgt, hour), (h...\n",
       "5560     [(anyth, lor), (lor, juz), (juz, us), (us, lor)]\n",
       "5561    [(get, dump), (dump, heap), (heap, mom), (mom,...\n",
       "5562    [(ok, lor), (lor, soni), (soni, ericsson), (er...\n",
       "5563    [(ard, number), (number, like), (like, dat), (...\n",
       "5564    [(dont, wait), (wait, til), (til, least), (lea...\n",
       "5565                                         [(huh, lei)]\n",
       "5566    [(remind, onumb), (onumb, get), (get, number),...\n",
       "5567    [(numbernd, time), (time, tri), (tri, number),...\n",
       "5568    [(ì_, b), (b, go), (go, esplanad), (esplanad, ...\n",
       "5569      [(piti, mood), (mood, soani), (soani, suggest)]\n",
       "5570    [(guy, bitch), (bitch, act), (act, like), (lik...\n",
       "5571                         [(rofl, true), (true, name)]\n",
       "Name: Tokenized, Length: 5572, dtype: object"
      ]
     },
     "execution_count": 18,
     "metadata": {},
     "output_type": "execute_result"
    }
   ],
   "source": [
    "from nltk.util import bigrams\n",
    "data1['Tokenized'].apply(lambda row: list(nltk.ngrams(row, 2)))"
   ]
  },
  {
   "cell_type": "code",
   "execution_count": 19,
   "metadata": {},
   "outputs": [
    {
     "data": {
      "text/plain": [
       "0       [(go, jurong, point), (jurong, point, crazi), ...\n",
       "1       [(ok, lar, joke), (lar, joke, wif), (joke, wif...\n",
       "2       [(free, entri, number), (entri, number, wkli),...\n",
       "3       [(u, dun, say), (dun, say, earli), (say, earli...\n",
       "4       [(nah, dont, think), (dont, think, goe), (thin...\n",
       "5       [(freemsg, hey, darl), (hey, darl, number), (d...\n",
       "6       [(even, brother, like), (brother, like, speak)...\n",
       "7       [(per, request, mell), (request, mell, mell), ...\n",
       "8       [(winner, valu, network), (valu, network, cust...\n",
       "9       [(mobil, number, month), (number, month, u), (...\n",
       "10      [(im, gonna, home), (gonna, home, soon), (home...\n",
       "11      [(six, chanc, win), (chanc, win, cash), (win, ...\n",
       "12      [(urgent, number, week), (number, week, free),...\n",
       "13      [(ive, search, right), (search, right, word), ...\n",
       "14                                                     []\n",
       "15      [(xxxmobilemovieclub, use, credit), (use, cred...\n",
       "16                                     [(oh, kim, watch)]\n",
       "17      [(eh, u, rememb), (u, rememb, number), (rememb...\n",
       "18      [(fine, thatåõ, way), (thatåõ, way, u), (way, ...\n",
       "19      [(england, v, macedonia), (v, macedonia, dont)...\n",
       "20                               [(serious, spell, name)]\n",
       "21      [(iûm, go, tri), (go, tri, number), (tri, numb...\n",
       "22      [(ì_, pay, first), (pay, first, lar), (first, ...\n",
       "23      [(aft, finish, lunch), (finish, lunch, go), (l...\n",
       "24      [(ffffffffff, alright, way), (alright, way, me...\n",
       "25      [(forc, eat, slice), (eat, slice, im), (slice,...\n",
       "26                                [(lol, alway, convinc)]\n",
       "27      [(catch, bu, fri), (bu, fri, egg), (fri, egg, ...\n",
       "28      [(im, back, amp), (back, amp, pack), (amp, pac...\n",
       "29      [(ahhh, work, vagu), (work, vagu, rememb), (va...\n",
       "                              ...                        \n",
       "5542    [(armand, say, get), (say, get, ass), (get, as...\n",
       "5543    [(u, still, havent), (still, havent, got), (ha...\n",
       "5544    [(im, take, derek), (take, derek, amp), (derek...\n",
       "5545       [(hi, durban, still), (durban, still, number)]\n",
       "5546    [(ic, lotta, childporn), (lotta, childporn, car)]\n",
       "5547    [(contract, mobil, number), (mobil, number, mn...\n",
       "5548                                  [(tri, weekend, v)]\n",
       "5549    [(know, wot, peopl), (wot, peopl, wear), (peop...\n",
       "5550            [(cool, time, think), (time, think, get)]\n",
       "5551    [(wen, get, spiritu), (get, spiritu, deep), (s...\n",
       "5552    [(safe, trip, nigeria), (trip, nigeria, wish),...\n",
       "5553                            [(hahahaus, brain, dear)]\n",
       "5554    [(well, keep, mind), (keep, mind, ive), (mind,...\n",
       "5555    [(yeh, indian, nice), (indian, nice, tho), (ni...\n",
       "5556    [(ye, that, u), (that, u, text), (u, text, psh...\n",
       "5557    [(meant, calcul, ltgt), (calcul, ltgt, unit), ...\n",
       "5558             [(sorri, ill, call), (ill, call, later)]\n",
       "5559    [(arent, next, ltgt), (next, ltgt, hour), (ltg...\n",
       "5560    [(anyth, lor, juz), (lor, juz, us), (juz, us, ...\n",
       "5561    [(get, dump, heap), (dump, heap, mom), (heap, ...\n",
       "5562    [(ok, lor, soni), (lor, soni, ericsson), (soni...\n",
       "5563    [(ard, number, like), (number, like, dat), (li...\n",
       "5564    [(dont, wait, til), (wait, til, least), (til, ...\n",
       "5565                                                   []\n",
       "5566    [(remind, onumb, get), (onumb, get, number), (...\n",
       "5567    [(numbernd, time, tri), (time, tri, number), (...\n",
       "5568    [(ì_, b, go), (b, go, esplanad), (go, esplanad...\n",
       "5569        [(piti, mood, soani), (mood, soani, suggest)]\n",
       "5570    [(guy, bitch, act), (bitch, act, like), (act, ...\n",
       "5571                                 [(rofl, true, name)]\n",
       "Name: Tokenized, Length: 5572, dtype: object"
      ]
     },
     "execution_count": 19,
     "metadata": {},
     "output_type": "execute_result"
    }
   ],
   "source": [
    "data1['Tokenized'].apply(lambda row: list(nltk.ngrams(row, 3)))"
   ]
  },
  {
   "cell_type": "code",
   "execution_count": 20,
   "metadata": {},
   "outputs": [],
   "source": [
    "from nltk.tokenize import word_tokenize\n",
    "allwords=[]\n",
    "for message in CleanMessages:\n",
    "    words=word_tokenize(message)\n",
    "    for w in words:\n",
    "        allwords.append(w)"
   ]
  },
  {
   "cell_type": "code",
   "execution_count": 21,
   "metadata": {},
   "outputs": [
    {
     "name": "stdout",
     "output_type": "stream",
     "text": [
      "<FreqDist with 7342 samples and 52411 outcomes>\n",
      "Most Common Words [('number', 2340), ('u', 1119), ('call', 653), ('im', 463), ('go', 449), ('get', 446), ('ur', 384), ('come', 297), ('dont', 279), ('ok', 277), ('ltgt', 276), ('free', 275), ('know', 270), ('like', 255), ('got', 250)]\n"
     ]
    }
   ],
   "source": [
    "# Apply the frequency distributions after we tokenized the messages\n",
    "freqdist = nltk.FreqDist(allwords)\n",
    "print(freqdist)\n",
    "print(\"Most Common Words {}\".format(freqdist.most_common(15)))"
   ]
  },
  {
   "cell_type": "code",
   "execution_count": 22,
   "metadata": {},
   "outputs": [],
   "source": [
    "from sklearn.feature_extraction.text import CountVectorizer\n",
    "from sklearn.model_selection import train_test_split\n",
    "from sklearn.linear_model import LogisticRegression"
   ]
  },
  {
   "cell_type": "code",
   "execution_count": 23,
   "metadata": {},
   "outputs": [],
   "source": [
    "X=data1['Message']\n",
    "y=data1['Target']"
   ]
  },
  {
   "cell_type": "code",
   "execution_count": 24,
   "metadata": {},
   "outputs": [],
   "source": [
    "Message_train,Message_test,y_train,y_test=train_test_split(X,y, test_size=0.25, random_state=1000)"
   ]
  },
  {
   "cell_type": "code",
   "execution_count": 25,
   "metadata": {},
   "outputs": [
    {
     "name": "stdout",
     "output_type": "stream",
     "text": [
      "X_train_shape(messages) : 4179\n",
      "y_train_shape(messages) : 4179\n",
      "X_test_shape(label) : 1393\n",
      "y_test_shape(label) : 1393\n"
     ]
    }
   ],
   "source": [
    "print(\"X_train_shape(messages) : {}\".format(Message_train.shape[0]))\n",
    "print(\"y_train_shape(messages) : {}\".format(y_train.shape[0]))\n",
    "print(\"X_test_shape(label) : {}\".format(Message_test.shape[0]))\n",
    "print(\"y_test_shape(label) : {}\".format(y_test.shape[0]))"
   ]
  },
  {
   "cell_type": "code",
   "execution_count": 26,
   "metadata": {},
   "outputs": [],
   "source": [
    "# Create Bag Of Words\n",
    "vectorizer = CountVectorizer()\n",
    "vectorizer.fit(Message_train)\n",
    "X_train=vectorizer.transform(Message_train)\n",
    "X_test=vectorizer.transform(Message_test)"
   ]
  },
  {
   "cell_type": "code",
   "execution_count": 27,
   "metadata": {},
   "outputs": [
    {
     "data": {
      "text/plain": [
       "6205"
      ]
     },
     "execution_count": 27,
     "metadata": {},
     "output_type": "execute_result"
    }
   ],
   "source": [
    "len(vectorizer.vocabulary_)"
   ]
  },
  {
   "cell_type": "code",
   "execution_count": 28,
   "metadata": {},
   "outputs": [],
   "source": [
    "from sklearn.linear_model import LogisticRegression\n",
    "def Classifier_logistic(X_train,y_train,X_test,y_test):\n",
    "    classifier = LogisticRegression()\n",
    "    classifier.fit(X_train,y_train)\n",
    "    score = classifier.score(X_test, y_test)\n",
    "    print(\"Accuracy:\", score)\n",
    "    return classifier"
   ]
  },
  {
   "cell_type": "code",
   "execution_count": 29,
   "metadata": {},
   "outputs": [
    {
     "name": "stdout",
     "output_type": "stream",
     "text": [
      "Accuracy: 0.9741564967695621\n"
     ]
    },
    {
     "name": "stderr",
     "output_type": "stream",
     "text": [
      "C:\\Users\\ASUS\\Anaconda3\\lib\\site-packages\\sklearn\\linear_model\\logistic.py:432: FutureWarning: Default solver will be changed to 'lbfgs' in 0.22. Specify a solver to silence this warning.\n",
      "  FutureWarning)\n"
     ]
    }
   ],
   "source": [
    "classifier_logistic=Classifier_logistic(X_train,y_train,X_test,y_test)"
   ]
  },
  {
   "cell_type": "code",
   "execution_count": 30,
   "metadata": {},
   "outputs": [
    {
     "data": {
      "text/plain": [
       "(4179, 6205)"
      ]
     },
     "execution_count": 30,
     "metadata": {},
     "output_type": "execute_result"
    }
   ],
   "source": [
    "#X_train.shape"
   ]
  },
  {
   "cell_type": "code",
   "execution_count": null,
   "metadata": {},
   "outputs": [],
   "source": []
  },
  {
   "cell_type": "code",
   "execution_count": null,
   "metadata": {},
   "outputs": [],
   "source": [
    "#from keras.models import Sequential\n",
    "#from keras import layers\n"
   ]
  }
 ],
 "metadata": {
  "kernelspec": {
   "display_name": "Python 3",
   "language": "python",
   "name": "python3"
  },
  "language_info": {
   "codemirror_mode": {
    "name": "ipython",
    "version": 3
   },
   "file_extension": ".py",
   "mimetype": "text/x-python",
   "name": "python",
   "nbconvert_exporter": "python",
   "pygments_lexer": "ipython3",
   "version": "3.7.3"
  }
 },
 "nbformat": 4,
 "nbformat_minor": 2
}
